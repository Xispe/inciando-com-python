{
  "nbformat": 4,
  "nbformat_minor": 0,
  "metadata": {
    "colab": {
      "provenance": [],
      "authorship_tag": "ABX9TyPxfQeHuZjy+C+CToTBL3US",
      "include_colab_link": true
    },
    "kernelspec": {
      "name": "python3",
      "display_name": "Python 3"
    },
    "language_info": {
      "name": "python"
    }
  },
  "cells": [
    {
      "cell_type": "markdown",
      "metadata": {
        "id": "view-in-github",
        "colab_type": "text"
      },
      "source": [
        "<a href=\"https://colab.research.google.com/github/Xispe/inciando-com-python/blob/main/Atividade1_Formula_prestacao.ipynb\" target=\"_parent\"><img src=\"https://colab.research.google.com/assets/colab-badge.svg\" alt=\"Open In Colab\"/></a>"
      ]
    },
    {
      "cell_type": "code",
      "execution_count": null,
      "metadata": {
        "id": "AgNeBVuSTYlw"
      },
      "outputs": [],
      "source": [
        "valor = int(input('digite o valor:'))\n",
        "taxa = int(input('digite a taxa:'))\n",
        "tempo = int(input('digite o tempo:'))\n",
        "\n",
        "PRESTACAO = valor+valor*((taxa/100)*tempo)\n",
        "print('a prestacao é:',PRESTACAO)"
      ]
    }
  ]
}