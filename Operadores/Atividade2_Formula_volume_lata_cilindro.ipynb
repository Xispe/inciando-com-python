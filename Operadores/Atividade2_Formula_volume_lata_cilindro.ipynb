{
  "nbformat": 4,
  "nbformat_minor": 0,
  "metadata": {
    "colab": {
      "provenance": [],
      "authorship_tag": "ABX9TyPmM0gaQQD1p2PvIjf26bJ/",
      "include_colab_link": true
    },
    "kernelspec": {
      "name": "python3",
      "display_name": "Python 3"
    },
    "language_info": {
      "name": "python"
    }
  },
  "cells": [
    {
      "cell_type": "markdown",
      "metadata": {
        "id": "view-in-github",
        "colab_type": "text"
      },
      "source": [
        "<a href=\"https://colab.research.google.com/github/Xispe/inciando-com-python/blob/main/Operadores/Atividade2_Formula_volume_lata_cilindro.ipynb\" target=\"_parent\"><img src=\"https://colab.research.google.com/assets/colab-badge.svg\" alt=\"Open In Colab\"/></a>"
      ]
    },
    {
      "cell_type": "code",
      "execution_count": 2,
      "metadata": {
        "colab": {
          "base_uri": "https://localhost:8080/"
        },
        "id": "AqweNvETU0y0",
        "outputId": "8ffae210-07ed-4e64-f671-7d533bd1ab3d"
      },
      "outputs": [
        {
          "output_type": "stream",
          "name": "stdout",
          "text": [
            "digite o raio:5\n",
            "digite a altura:6\n",
            "o volume é: 471.2385 cm³\n"
          ]
        }
      ],
      "source": [
        "pi = 3.14159\n",
        "raio = int(input('digite o raio:'))\n",
        "altura = int(input('digite a altura:'))\n",
        "\n",
        "resultado = pi*(raio**2)*altura\n",
        "print('o volume é:' ,resultado,'cm³')"
      ]
    }
  ]
}